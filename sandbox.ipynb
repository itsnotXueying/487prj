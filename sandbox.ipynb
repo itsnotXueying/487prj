{
 "cells": [
  {
   "cell_type": "code",
   "execution_count": 11,
   "metadata": {},
   "outputs": [],
   "source": [
    "import isodate\n",
    "import pandas as pd\n",
    "import numpy as np\n",
    "import os \n",
    "import sys\n",
    "from nltk.tokenize import word_tokenize, sent_tokenize\n",
    "import string\n",
    "from nltk.corpus import stopwords\n",
    "punks = string.punctuation\n",
    "punks = punks+ '``'+ \"''\"\n",
    "stopword_list = stopwords.words('english')\n",
    "import gensim.downloader"
   ]
  },
  {
   "cell_type": "code",
   "execution_count": 56,
   "metadata": {},
   "outputs": [],
   "source": [
    "df = pd.read_csv('useRecipesData.csv')"
   ]
  },
  {
   "cell_type": "code",
   "execution_count": 60,
   "metadata": {},
   "outputs": [
    {
     "name": "stdout",
     "output_type": "stream",
     "text": [
      "fail\n",
      "fail\n",
      "fail\n"
     ]
    }
   ],
   "source": [
    "for x in df['RecipeIngredientParts'].values:\n",
    "    if type(x) != str:\n",
    "        print('fail')"
   ]
  },
  {
   "cell_type": "code",
   "execution_count": 53,
   "metadata": {},
   "outputs": [],
   "source": [
    "line = df.RecipeIngredientParts[0]\n",
    "line = line.split('\", \"')\n",
    "#line = [x[1:-1] for x in line]"
   ]
  },
  {
   "cell_type": "code",
   "execution_count": 43,
   "metadata": {},
   "outputs": [],
   "source": [
    "for x in df['RecipeIngredientParts']:\n",
    "    if type(x) != str:\n",
    "        print('issue')"
   ]
  },
  {
   "cell_type": "code",
   "execution_count": 61,
   "metadata": {},
   "outputs": [],
   "source": [
    "df['RecipeIngredientParts'] = df['RecipeIngredientParts'].apply(lambda x: x if pd.notna(x) and type(x) == str else 'BLANK')"
   ]
  },
  {
   "cell_type": "code",
   "execution_count": 63,
   "metadata": {},
   "outputs": [],
   "source": [
    "df.to_csv('useRecipesData.csv',index=False)"
   ]
  },
  {
   "cell_type": "code",
   "execution_count": 23,
   "metadata": {},
   "outputs": [],
   "source": [
    "row = df.loc[idx]\n",
    "instructions = row.RecipeInstructions\n",
    "review_embedding = np.zeros((200,))\n",
    "bucket = row[['quick','medQuick','long']].astype(np.float32).values\n",
    "clean_tokens = []\n",
    "sent_tokens = sent_tokenize(instructions)\n",
    "for sent in sent_tokens:\n",
    "    tokenized = word_tokenize(sent)\n",
    "    for token in tokenized:\n",
    "        if token not in punks and token not in stopword_list:\n",
    "            clean_tokens.append(token.lower())\n",
    "for token in clean_tokens:\n",
    "    if token not in embed:\n",
    "        continue\n",
    "    review_embedding += embed[token]\n",
    "        \n",
    "review_embedding = torch.tensor(review_embedding, dtype=torch.float32)"
   ]
  },
  {
   "cell_type": "code",
   "execution_count": 24,
   "metadata": {},
   "outputs": [
    {
     "data": {
      "text/plain": [
       "dtype('float32')"
      ]
     },
     "execution_count": 24,
     "metadata": {},
     "output_type": "execute_result"
    }
   ],
   "source": [
    "bucket.dtype"
   ]
  },
  {
   "cell_type": "code",
   "execution_count": 25,
   "metadata": {},
   "outputs": [
    {
     "data": {
      "text/plain": [
       "torch.float32"
      ]
     },
     "execution_count": 25,
     "metadata": {},
     "output_type": "execute_result"
    }
   ],
   "source": [
    "review_embedding.dtype"
   ]
  }
 ],
 "metadata": {
  "kernelspec": {
   "display_name": "env",
   "language": "python",
   "name": "python3"
  },
  "language_info": {
   "codemirror_mode": {
    "name": "ipython",
    "version": 3
   },
   "file_extension": ".py",
   "mimetype": "text/x-python",
   "name": "python",
   "nbconvert_exporter": "python",
   "pygments_lexer": "ipython3",
   "version": "3.10.12"
  }
 },
 "nbformat": 4,
 "nbformat_minor": 2
}
