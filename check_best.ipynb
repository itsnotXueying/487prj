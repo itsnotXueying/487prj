{
 "cells": [
  {
   "cell_type": "code",
   "execution_count": 1,
   "metadata": {},
   "outputs": [],
   "source": [
    "import pandas as pd\n",
    "import numpy as np\n",
    "import os"
   ]
  },
  {
   "cell_type": "code",
   "execution_count": 9,
   "metadata": {},
   "outputs": [],
   "source": [
    "import matplotlib.pyplot as plt"
   ]
  },
  {
   "cell_type": "code",
   "execution_count": 14,
   "metadata": {},
   "outputs": [
    {
     "name": "stdout",
     "output_type": "stream",
     "text": [
      "Best lr:0.01\n",
      "Best p:0.9\n",
      "Best wd:0.001\n",
      "best quick auroc: 0.663\n",
      "best med auroc: 0.642\n",
      "best long auroc: 0.62\n"
     ]
    },
    {
     "data": {
      "image/png": "[encoded data removed]",
      "text/plain": [
       "<Figure size 640x480 with 1 Axes>"
      ]
     },
     "metadata": {},
     "output_type": "display_data"
    }
   ],
   "source": [
    "#USE TO FIND BEST CLASSIFICATION MODEL PERFORMANCE HYPERPARAMETER SETTINGS\n",
    "best_val_loss = float('inf')\n",
    "best_lr = -1\n",
    "best_p = -1\n",
    "best_wd = -1\n",
    "for lr in ([1e-1,1e-2,1e-3]):\n",
    "    for p in [0.8,0.9]:\n",
    "        for wd in [1e-1,1e-2,1e-3]:\n",
    "            params = f\"b64_lr{lr}_p{p}_wd{wd}\"\n",
    "            try:\n",
    "                df = pd.read_csv(f'results_mlp_ingre_bucket/{params}/loss_log.csv')\n",
    "            except:\n",
    "                continue\n",
    "            df.set_index('Epoch',inplace=True)\n",
    "            best_epoch = df['Val Loss'].argmin()\n",
    "            cur_best_val_loss = df.loc[best_epoch,'Val Loss']\n",
    "            if cur_best_val_loss < best_val_loss:\n",
    "                best_val_loss = cur_best_val_loss\n",
    "                test_df = pd.read_csv(f'results_mlp_ingre_bucket/{params}/test_aurocs.csv')\n",
    "                test_df.set_index('Epoch',inplace=True)\n",
    "                quick,med,long = test_df.loc[best_epoch]\n",
    "                best_lr = lr\n",
    "                best_p = p\n",
    "                best_wd = wd\n",
    "print(f\"Best lr:{best_lr}\")\n",
    "print(f\"Best p:{best_p}\")\n",
    "print(f\"Best wd:{best_wd}\")\n",
    "print(f\"best quick auroc: {quick}\")\n",
    "print(f\"best med auroc: {med}\")\n",
    "print(f\"best long auroc: {long}\")\n",
    "\n",
    "params = f\"b64_lr{lr}_p{p}_wd{wd}\"\n",
    "df = pd.read_csv(f'results_mlp_ingre_bucket/{params}/loss_log.csv')\n",
    "test_ingre_loss = df['Test Loss']\n",
    "plt.plot(test_ingre_loss,label='Ingredient Test Loss')\n",
    "line1 = [23.25] * len(test_ingre_loss)\n",
    "\n",
    "params = f\"b64_lr0.001_p0.8_wd0.0001\"\n",
    "df2 = pd.read_csv(f'results_mlp_bucket/{params}/loss_log.csv')\n",
    "test_loss = df2['Test Loss']\n",
    "plt.plot(test_loss,label='Instruction Test Loss')\n",
    "\n",
    "\n",
    "line2 = [45.43] * len(test_ingre_loss)\n",
    "\n",
    "plt.plot(line1,label='Baseline 1')\n",
    "plt.plot(line2,label='Baseline 2')\n",
    "plt.xlabel('Epoch')\n",
    "plt.ylabel('Loss')\n",
    "plt.title('Ingredient Classification Model Cross Entropy Loss')\n",
    "plt.legend()\n",
    "plt.savefig('bucket_ingre_plot.png')\n"
   ]
  },
  {
   "cell_type": "code",
   "execution_count": null,
   "metadata": {},
   "outputs": [],
   "source": [
    "best_train_loss = float('inf')\n",
    "best_val_loss = float('inf')\n",
    "\n",
    "for lr in ([1e-1,1e-2,1e-3]):\n",
    "    for p in [0.8,0.9]:\n",
    "        for wd in [1e-1,1e-2,1e-3]:\n",
    "            params = f\"b64_lr{lr}_p{p}_wd{wd}\"\n",
    "            df = pd.read_csv(f'results_mlp_ingre_bucket/{params}/loss_log.csv')"
   ]
  },
  {
   "cell_type": "code",
   "execution_count": 2,
   "metadata": {},
   "outputs": [
    {
     "name": "stdout",
     "output_type": "stream",
     "text": [
      "Best lr:0.1\n",
      "Best p:0.8\n",
      "Best wd:0.01\n",
      "Best test MSE: 499419.62\n"
     ]
    }
   ],
   "source": [
    "#USE TO FIND BEST REGRESSION INGREDIENTS MODEL\n",
    "best_val_loss = float('inf')\n",
    "best_val_test = float('inf')\n",
    "best_lr = -1\n",
    "best_p = -1\n",
    "best_wd = -1\n",
    "for lr in ([1e-1,1e-2,1e-3]):\n",
    "    for p in [0.8,0.9]:\n",
    "        for wd in [1e-1,1e-2,1e-3]:\n",
    "            params = f\"b64_lr{lr}_p{p}_wd{wd}\"\n",
    "            try:\n",
    "                df = pd.read_csv(f'results_mlp_ingre_regression/{params}/loss_log.csv')\n",
    "            except:\n",
    "                continue\n",
    "            df.set_index('Epoch',inplace=True)\n",
    "            best_epoch = df['Val Loss'].argmin()\n",
    "            cur_best_val_loss = df.loc[best_epoch,'Val Loss']\n",
    "            if cur_best_val_loss < best_val_loss:\n",
    "                best_val_loss = cur_best_val_loss\n",
    "                best_test_loss = df.loc[best_epoch,'Test Loss']\n",
    "                best_lr = lr\n",
    "                best_p = p\n",
    "                best_wd = wd\n",
    "                \n",
    "            \n",
    "print(f\"Best lr:{best_lr}\")\n",
    "print(f\"Best p:{best_p}\")\n",
    "print(f\"Best wd:{best_wd}\")\n",
    "print(f\"Best test MSE: {best_test_loss}\")"
   ]
  },
  {
   "cell_type": "code",
   "execution_count": 3,
   "metadata": {},
   "outputs": [
    {
     "name": "stdout",
     "output_type": "stream",
     "text": [
      "Best lr:-1\n",
      "Best p:-1\n",
      "Best wd:-1\n",
      "Best test MSE: 499419.62\n"
     ]
    }
   ],
   "source": [
    "#USE TO FIND BEST REGRESSION INSTRUCTION MODEL\n",
    "best_val_loss = float('inf')\n",
    "best_val_test = float('inf')\n",
    "best_lr = -1\n",
    "best_p = -1\n",
    "best_wd = -1\n",
    "for lr in ([1e-1,1e-2,1e-3]):\n",
    "    for p in [0.8,0.9]:\n",
    "        for wd in [1e-1,1e-2,1e-3]:\n",
    "            params = f\"b64_lr{lr}_p{p}_wd{wd}\"\n",
    "            try:\n",
    "                df = pd.read_csv(f'results_mlp_regression/{params}/loss_log.csv')\n",
    "            except:\n",
    "                continue\n",
    "            df.set_index('Epoch',inplace=True)\n",
    "            best_epoch = df['Val Loss'].argmin()\n",
    "            cur_best_val_loss = df.loc[best_epoch,'Val Loss']\n",
    "            if cur_best_val_loss < best_val_loss:\n",
    "                best_val_loss = cur_best_val_loss\n",
    "                best_test_loss = df.loc[best_epoch,'Test Loss']\n",
    "                best_lr = lr\n",
    "                best_p = p\n",
    "                best_wd = wd\n",
    "                \n",
    "            \n",
    "print(f\"Best lr:{best_lr}\")\n",
    "print(f\"Best p:{best_p}\")\n",
    "print(f\"Best wd:{best_wd}\")\n",
    "print(f\"Best test MSE: {best_test_loss}\")"
   ]
  },
  {
   "cell_type": "code",
   "execution_count": 4,
   "metadata": {},
   "outputs": [],
   "source": [
    "df = pd.read_csv('useRecipesData.csv')"
   ]
  },
  {
   "cell_type": "code",
   "execution_count": 6,
   "metadata": {},
   "outputs": [],
   "source": [
    "mean_prep_time = df['PrepTime'].mean()"
   ]
  },
  {
   "cell_type": "code",
   "execution_count": 9,
   "metadata": {},
   "outputs": [],
   "source": [
    "df['baselineMSE'] = df['PrepTime'].apply(lambda x: (x - mean_prep_time)**2)"
   ]
  },
  {
   "cell_type": "code",
   "execution_count": 11,
   "metadata": {},
   "outputs": [
    {
     "data": {
      "text/plain": [
       "335838.92794319"
      ]
     },
     "execution_count": 11,
     "metadata": {},
     "output_type": "execute_result"
    }
   ],
   "source": [
    "df['baselineMSE'].mean()"
   ]
  },
  {
   "cell_type": "code",
   "execution_count": 1,
   "metadata": {},
   "outputs": [],
   "source": [
    "#BASELINE 1\n",
    "# ALWAYS PREDICT <15 class\n",
    "import torch\n",
    "from sklearn import metrics\n",
    "from tqdm.auto import tqdm\n",
    "\n",
    "criterion = torch.nn.BCELoss()\n",
    "\n",
    "def _get_metrics(loader):\n",
    "        y_true, y_score = [], []\n",
    "        correct, total = 0, 0\n",
    "        running_loss = []\n",
    "        max_iterations = 50\n",
    "        iteration = 0\n",
    "        for X, y in loader:\n",
    "            y = y.float()\n",
    "            y_true.append(y)\n",
    "            naive = [[1,0,0] for x in range(len(y))]\n",
    "            naive = np.array(naive,dtype=np.float32)\n",
    "            naive = torch.tensor(naive)\n",
    "            y_score.append(naive)\n",
    "            running_loss.append(criterion(naive, y))\n",
    "        y_true = torch.cat(y_true)\n",
    "        y_score = torch.cat(y_score)\n",
    "        measure = metrics.roc_auc_score(y_true.cpu(), y_score.cpu(),average=None)\n",
    "        loss = np.mean(running_loss)\n",
    "        return np.round(measure, decimals=3), round(loss,2)"
   ]
  },
  {
   "cell_type": "code",
   "execution_count": 2,
   "metadata": {},
   "outputs": [
    {
     "name": "stdout",
     "output_type": "stream",
     "text": [
      "Baseline 1 quick AUROC [0.5 0.5 0.5]\n"
     ]
    },
    {
     "ename": "NameError",
     "evalue": "name 'quick' is not defined",
     "output_type": "error",
     "traceback": [
      "\u001b[0;31m---------------------------------------------------------------------------\u001b[0m",
      "\u001b[0;31mNameError\u001b[0m                                 Traceback (most recent call last)",
      "\u001b[1;32m/home/gkondas/EECS487/final/check_best.ipynb Cell 13\u001b[0m line \u001b[0;36m6\n\u001b[1;32m      <a href='vscode-notebook-cell://wsl%2Bubuntu/home/gkondas/EECS487/final/check_best.ipynb#X14sdnNjb2RlLXJlbW90ZQ%3D%3D?line=3'>4</a>\u001b[0m measure,loss \u001b[39m=\u001b[39m _get_metrics(te_loader)\n\u001b[1;32m      <a href='vscode-notebook-cell://wsl%2Bubuntu/home/gkondas/EECS487/final/check_best.ipynb#X14sdnNjb2RlLXJlbW90ZQ%3D%3D?line=4'>5</a>\u001b[0m \u001b[39mprint\u001b[39m(\u001b[39mf\u001b[39m\u001b[39m\"\u001b[39m\u001b[39mBaseline 1 quick AUROC \u001b[39m\u001b[39m{\u001b[39;00mmeasure\u001b[39m}\u001b[39;00m\u001b[39m\"\u001b[39m)\n\u001b[0;32m----> <a href='vscode-notebook-cell://wsl%2Bubuntu/home/gkondas/EECS487/final/check_best.ipynb#X14sdnNjb2RlLXJlbW90ZQ%3D%3D?line=5'>6</a>\u001b[0m \u001b[39mprint\u001b[39m(\u001b[39mf\u001b[39m\u001b[39m\"\u001b[39m\u001b[39mBaseline 1 med AUROC \u001b[39m\u001b[39m{\u001b[39;00mquick\u001b[39m}\u001b[39;00m\u001b[39m\"\u001b[39m)\n\u001b[1;32m      <a href='vscode-notebook-cell://wsl%2Bubuntu/home/gkondas/EECS487/final/check_best.ipynb#X14sdnNjb2RlLXJlbW90ZQ%3D%3D?line=6'>7</a>\u001b[0m \u001b[39mprint\u001b[39m(\u001b[39mf\u001b[39m\u001b[39m\"\u001b[39m\u001b[39mBaseline 1 long AUROC \u001b[39m\u001b[39m{\u001b[39;00mquick\u001b[39m}\u001b[39;00m\u001b[39m\"\u001b[39m)\n\u001b[1;32m      <a href='vscode-notebook-cell://wsl%2Bubuntu/home/gkondas/EECS487/final/check_best.ipynb#X14sdnNjb2RlLXJlbW90ZQ%3D%3D?line=7'>8</a>\u001b[0m \u001b[39mprint\u001b[39m(\u001b[39mf\u001b[39m\u001b[39m\"\u001b[39m\u001b[39mBaseline 1 loss \u001b[39m\u001b[39m{\u001b[39;00mloss\u001b[39m}\u001b[39;00m\u001b[39m\"\u001b[39m)\n",
      "\u001b[0;31mNameError\u001b[0m: name 'quick' is not defined"
     ]
    }
   ],
   "source": [
    "from dataset_bucketing import *\n",
    "# from dataset_ingre_bucket import *\n",
    "_,_,te_loader  = get_train_val_test_loaders(64)\n",
    "measure,loss = _get_metrics(te_loader)\n",
    "\n"
   ]
  },
  {
   "cell_type": "code",
   "execution_count": 3,
   "metadata": {},
   "outputs": [
    {
     "name": "stdout",
     "output_type": "stream",
     "text": [
      "Baseline 1 quick AUROC 0.5\n",
      "Baseline 1 med AUROC 0.5\n",
      "Baseline 1 long AUROC 0.5\n",
      "Baseline 1 loss 23.25\n"
     ]
    }
   ],
   "source": [
    "print(f\"Baseline 1 quick AUROC {measure[0]}\")\n",
    "print(f\"Baseline 1 med AUROC {measure[1]}\")\n",
    "print(f\"Baseline 1 long AUROC {measure[2]}\")\n",
    "print(f\"Baseline 1 loss {loss}\")"
   ]
  },
  {
   "cell_type": "code",
   "execution_count": 6,
   "metadata": {},
   "outputs": [],
   "source": [
    "#BASELINE 2\n",
    "# Randomly predict class\n",
    "import torch\n",
    "from sklearn import metrics\n",
    "import random\n",
    "from tqdm.auto import tqdm\n",
    "bag = [[1,0,0],[0,1,0],[0,0,1]]\n",
    "def _get_metrics2(loader):\n",
    "        y_true, y_score = [], []\n",
    "        correct, total = 0, 0\n",
    "        running_loss = []\n",
    "        max_iterations = 50\n",
    "        iteration = 0\n",
    "        for X, y in tqdm(loader):\n",
    "            y = y.float()\n",
    "            y_true.append(y)\n",
    "            naive = [random.choice(bag) for x in range(len(y))]\n",
    "            naive = np.array(naive, dtype=np.float32)\n",
    "            naive = torch.tensor(naive)\n",
    "            y_score.append(naive)\n",
    "            running_loss.append(criterion(naive, y))\n",
    "        y_true = torch.cat(y_true)\n",
    "        y_score = torch.cat(y_score)\n",
    "        measure = metrics.roc_auc_score(y_true.cpu(), y_score.cpu(),average=None)\n",
    "        loss = np.mean(running_loss)\n",
    "        return np.round(measure, decimals=3), round(loss,2)"
   ]
  },
  {
   "cell_type": "code",
   "execution_count": 7,
   "metadata": {},
   "outputs": [
    {
     "data": {
      "application/vnd.jupyter.widget-view+json": {
       "model_id": "5d91949ce5e4456a97f19a57dc013ba0",
       "version_major": 2,
       "version_minor": 0
      },
      "text/plain": [
       "  0%|          | 0/24 [00:00<?, ?it/s]"
      ]
     },
     "metadata": {},
     "output_type": "display_data"
    },
    {
     "name": "stdout",
     "output_type": "stream",
     "text": [
      "Baseline 1 quick AUROC 0.488\n",
      "Baseline 1 med AUROC 0.514\n",
      "Baseline 1 long AUROC 0.501\n",
      "Baseline 1 loss 45.439998626708984\n"
     ]
    }
   ],
   "source": [
    "#from dataset_bucketing import *\n",
    "from dataset_ingre_bucket import *\n",
    "_,_,te_loader  = get_train_val_test_loaders(64)\n",
    "measure,loss = _get_metrics2(te_loader)\n",
    "print(f\"Baseline 1 quick AUROC {measure[0]}\")\n",
    "print(f\"Baseline 1 med AUROC {measure[1]}\")\n",
    "print(f\"Baseline 1 long AUROC {measure[2]}\")\n",
    "print(f\"Baseline 1 loss {loss}\")"
   ]
  }
 ],
 "metadata": {
  "kernelspec": {
   "display_name": "env",
   "language": "python",
   "name": "python3"
  },
  "language_info": {
   "codemirror_mode": {
    "name": "ipython",
    "version": 3
   },
   "file_extension": ".py",
   "mimetype": "text/x-python",
   "name": "python",
   "nbconvert_exporter": "python",
   "pygments_lexer": "ipython3",
   "version": "3.10.12"
  }
 },
 "nbformat": 4,
 "nbformat_minor": 2
}
